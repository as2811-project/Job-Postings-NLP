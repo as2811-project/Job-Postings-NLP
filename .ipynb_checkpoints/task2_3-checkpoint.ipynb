{
 "cells": [
  {
   "cell_type": "markdown",
   "metadata": {},
   "source": [
    "# Assignment 2: Milestone I Natural Language Processing\n",
    "## Task 2&3\n",
    "#### Student Name: Anandh Sellamuthu\n",
    "#### Student ID: S3976934\n",
    "\n",
    "Date: 17th Sept, 2023\n",
    "\n",
    "Version: 1.0\n",
    "\n",
    "Environment: Python 3 and Jupyter notebook\n",
    "\n",
    "Libraries used:\n",
    "* re\n",
    "* nltk\n",
    "* os\n",
    "* numpy (as np)\n",
    "* pandas (as pd)\n",
    "* matplotlib.pyplot (as plt)\n",
    "* seaborn\n",
    "* sklearn.datasets\n",
    "* gensim.models.fasttext\n",
    "* sklearn.feature_extraction.text\n",
    "* nltk.probability\n",
    "* nltk.RegexpTokenizer\n",
    "* nltk.tokenize.sent_tokenize\n",
    "* itertools.chain\n",
    "* nltk.tokenize.word_tokenize\n",
    "* sklearn.model_selection\n",
    "* sklearn.linear_model\n",
    "* LogisticRegression\n",
    "* sklearn.metrics\n",
    "* gensim.corpora\n",
    "* gensim.models.tfidfmodel\n",
    "* gensim.matutils\n",
    "\n",
    "## Introduction\n",
    "In these tasks, we'll be using the tokenised descriptions generated in task 1 (along with the vocabulary) to generate feature representations. We'll be training a machine learning model (Logistic Regression) on the TF-IDF weighted vector and the unweighted vector generated. This will also be extended to titles and a combination of both titles and descriptions to compare how the models perform depending on the amount of information provided. Each task is divided into sub-tasks for easier reading."
   ]
  },
  {
   "cell_type": "markdown",
   "metadata": {},
   "source": [
    "## Importing libraries "
   ]
  },
  {
   "cell_type": "code",
   "execution_count": 1,
   "metadata": {},
   "outputs": [],
   "source": [
    "# Importing necessary libraries\n",
    "import re  \n",
    "import nltk\n",
    "import os\n",
    "import numpy as np\n",
    "import pandas as pd\n",
    "import matplotlib.pyplot as plt\n",
    "%matplotlib inline \n",
    "import seaborn as sns\n",
    "from sklearn.datasets import load_files\n",
    "from gensim.models.fasttext import FastText\n",
    "from sklearn.feature_extraction.text import TfidfVectorizer\n",
    "from sklearn.feature_extraction.text import CountVectorizer\n",
    "from nltk.probability import *\n",
    "from nltk import RegexpTokenizer\n",
    "from nltk.tokenize import sent_tokenize\n",
    "from itertools import chain\n",
    "from nltk.tokenize import word_tokenize\n",
    "from sklearn.model_selection import train_test_split\n",
    "from sklearn.linear_model import LogisticRegression\n",
    "from sklearn.metrics import classification_report, accuracy_score, confusion_matrix\n",
    "from gensim.corpora import Dictionary\n",
    "from gensim.models.tfidfmodel import TfidfModel\n",
    "from gensim.matutils import sparse2full\n",
    "from sklearn.model_selection import KFold"
   ]
  },
  {
   "cell_type": "markdown",
   "metadata": {},
   "source": [
    "## Task 2. Generating Feature Representations for Job Advertisement Descriptions"
   ]
  },
  {
   "cell_type": "markdown",
   "metadata": {},
   "source": [
    "In this task, feature representations will be generated for the descriptions (both weighted and unweighted vectors). We start off with reading the files to generate the necessary data in appropriate data structures. Then, a count vector representation of the files is generated and exported. The features generated in this task will be used in the next task extensively."
   ]
  },
  {
   "cell_type": "code",
   "execution_count": 2,
   "metadata": {},
   "outputs": [],
   "source": [
    "def extract_webindex_title_and_description(file_content):\n",
    "    webindex = None\n",
    "    title = None\n",
    "    description = None\n",
    "\n",
    "    lines = file_content.split('\\n')  # Decode the bytes to a string\n",
    "    in_description = False\n",
    "\n",
    "    for line in lines:\n",
    "        if line.startswith(\"Webindex:\"):\n",
    "            webindex = line.split(\":\")[1].strip()\n",
    "            in_description = False\n",
    "        elif line.startswith(\"Title:\"):\n",
    "            title = line.split(\":\")[1].strip()\n",
    "        elif line.startswith(\"Description:\") or in_description:\n",
    "            if description is None:\n",
    "                description = line.lstrip(\"Description:\").strip()\n",
    "                in_description = True\n",
    "            else:\n",
    "                description += \" \" + line.strip()\n",
    "    \n",
    "    return webindex, title, description\n",
    "\n",
    "# Loading data\n",
    "jp_data = load_files(r\"data\", encoding=\"utf-8\")\n",
    "job_ads = jp_data.data  # List of job advertisements\n",
    "\n",
    "sorted_filenames = sorted(jp_data.filenames, key=lambda x: int(x.split(\"_\")[-1].split(\".\")[0]))\n",
    "\n",
    "# Initialising lists to store webindices, titles, and descriptions\n",
    "webindices = []\n",
    "titles = []\n",
    "descriptions = []\n",
    "target_indices = []\n",
    "\n",
    "# Extracting webindices, titles, and descriptions for each job ad\n",
    "for filename in sorted_filenames:\n",
    "    with open(filename, 'r', encoding=\"utf-8\") as file:\n",
    "        webindex, title, description = extract_webindex_title_and_description(file.read())\n",
    "        \n",
    "        # Extracting the category name (e.g., 'Healthcare_Nursing') from the filename\n",
    "        category = os.path.basename(os.path.dirname(filename))\n",
    "        \n",
    "        # Finding the index of the category in the target_names list\n",
    "        target_index = jp_data.target_names.index(category)\n",
    "        \n",
    "        webindices.append(webindex)\n",
    "        titles.append(title)\n",
    "        descriptions.append(description)\n",
    "        target_indices.append(target_index)"
   ]
  },
  {
   "cell_type": "code",
   "execution_count": 3,
   "metadata": {},
   "outputs": [],
   "source": [
    "#Path to the tokenized_descriptions.txt\n",
    "tkD_filepath = 'tokenized_descriptions.txt'\n",
    "# Lines from the file will be stored in this list\n",
    "tokenized_descriptions = []\n",
    "# Reading file content to the list\n",
    "with open(tkD_filepath, 'r', encoding='utf-8') as file:\n",
    "    for line in file:\n",
    "        tokenized_descriptions.append(line.strip())"
   ]
  },
  {
   "cell_type": "code",
   "execution_count": 4,
   "metadata": {},
   "outputs": [],
   "source": [
    "vocab_file_path = 'vocab.txt'\n",
    "# Initialising list to store the vocabulary read from vocab.txt\n",
    "vocabulary = []\n",
    "with open(vocab_file_path, 'r', encoding='utf-8') as vocab_file:\n",
    "    for line in vocab_file:\n",
    "        # Spliting each line using ':' as the delimiter and keep the first part (the word)\n",
    "        word = line.strip().split(':')[0]        \n",
    "        # Appending the word to the vocabulary list\n",
    "        vocabulary.append(word)"
   ]
  },
  {
   "cell_type": "code",
   "execution_count": 5,
   "metadata": {},
   "outputs": [],
   "source": [
    "def validator(data_features, vocab, index, webindices,titles,tokenized_descriptions):\n",
    "    print(\"Web Index:\", webindices[index]) #Printing the corresponding WebIndex for verification\n",
    "    print(\"--------------------------------------------\")\n",
    "    print(\"Title:\",titles[index]) #Printing the corresponding Title for verification\n",
    "    print(\"Description tokens:\",tokenized_descriptions[index]) #Printing the corresponding tokenised description for verification\n",
    "    print(\"--------------------------------------------\")\n",
    "    print(\"Vector representation:\\n\") #Printing the vector representation\n",
    "\n",
    "    for word, value in zip(vocab, data_features.toarray()[index]): \n",
    "        if value > 0:\n",
    "            print(word+\":\"+str(value), end =' ')"
   ]
  },
  {
   "cell_type": "markdown",
   "metadata": {},
   "source": [
    "### Task 2.1 Generating Count Vector (Bag-Of-Words Model)\n",
    "Count Vector is a useful feature when it comes to NLP, we generate a count vector, which is essentially a matrix that contains the counts of each word present in a document, on a document-by-document basis. This is exported as a text file below (albeit won't be used for training the models further down the line)"
   ]
  },
  {
   "cell_type": "code",
   "execution_count": 6,
   "metadata": {},
   "outputs": [],
   "source": [
    "# Initialise the CountVectorizer with the provided vocabulary\n",
    "cVectorizer = CountVectorizer(analyzer=\"word\", vocabulary=vocabulary)\n",
    "# Generate count vectors for tokenized descriptions\n",
    "count_features = cVectorizer.transform(tokenized_descriptions)\n",
    "\n",
    "def generate_count_vectors_and_webindices(webindices, vocabulary):\n",
    "\n",
    "    # Initialize a list to store the results\n",
    "    results = []\n",
    "\n",
    "    # Iterate through the webindices and corresponding count vectors\n",
    "    for webindex, count_vector in zip(webindices, count_features):\n",
    "        # Create a list of \"word_index:count\" for non-zero entries in the count vector\n",
    "        count_vector_str = [f\"{ind}:{val}\" for ind, val in zip(count_vector.indices, count_vector.data)]\n",
    "\n",
    "        # Combine webindex, count vector, and format it as a string\n",
    "        result_str = f\"#{webindex}, {' '.join(count_vector_str)}\"\n",
    "\n",
    "        # Append the result string to the list\n",
    "        results.append(result_str)\n",
    "\n",
    "    return results"
   ]
  },
  {
   "cell_type": "markdown",
   "metadata": {},
   "source": [
    "### Task 2.2: Generating feature vector representation | FastText Model\n",
    "For this task, FastText Model has been opted as it is known to train faster than Word2Vec and is also known to work better for out-of-vocabulary words. We start off with reading the tokenised descriptions file in the appropriate format. The FastText model is trained on this text. A vocabulary is built by the model itself. By extracting the word vectors/keyed vectors from the model, we can proceed with generating weighted and unweighted vectors."
   ]
  },
  {
   "cell_type": "code",
   "execution_count": 7,
   "metadata": {},
   "outputs": [],
   "source": [
    "txt_fname = 'tokenized_descriptions.txt'\n",
    "with open(txt_fname) as txtf:\n",
    "    desc_texts = txtf.read().splitlines() \n",
    "tk_desc = [a.split(' ') for a in desc_texts]"
   ]
  },
  {
   "cell_type": "code",
   "execution_count": 8,
   "metadata": {},
   "outputs": [
    {
     "name": "stdout",
     "output_type": "stream",
     "text": [
      "FastText<vocab=2741, vector_size=100, alpha=0.025>\n"
     ]
    }
   ],
   "source": [
    "# Path to the tokenized corpus file\n",
    "corpus_file = './tokenized_descriptions.txt'\n",
    "\n",
    "# Initialising FastText model with vector size of 100\n",
    "jpFastText = FastText(vector_size=100) \n",
    "\n",
    "# Building the vocabulary from the corpus file\n",
    "jpFastText.build_vocab(corpus_file=corpus_file)\n",
    "\n",
    "# Training the FastText model on the corpus data\n",
    "jpFastText.train(\n",
    "    corpus_file=corpus_file, epochs=jpFastText.epochs,\n",
    "    total_examples=jpFastText.corpus_count, total_words=jpFastText.corpus_total_words,\n",
    ")\n",
    "\n",
    "print(jpFastText)"
   ]
  },
  {
   "cell_type": "code",
   "execution_count": 9,
   "metadata": {},
   "outputs": [],
   "source": [
    "# Extracting the word vectors from the trained FastText model\n",
    "jpFastText_wv = jpFastText.wv"
   ]
  },
  {
   "cell_type": "markdown",
   "metadata": {},
   "source": [
    "#### Generating TF-IDF weighted vector using FastText"
   ]
  },
  {
   "cell_type": "code",
   "execution_count": 10,
   "metadata": {},
   "outputs": [],
   "source": [
    "# Creating a dictionary mapping between words and their integer ids\n",
    "descDict = Dictionary(tk_desc) \n",
    "descDict.compactify()"
   ]
  },
  {
   "cell_type": "code",
   "execution_count": 11,
   "metadata": {},
   "outputs": [],
   "source": [
    "# Converting the tokenized descriptions to bag-of-words using the dictionary created above\n",
    "descCorpus = [descDict.doc2bow(doc) for doc in tk_desc]\n",
    "\n",
    "# Initialising the TF-IDF model using the bag-of-words corpus and dictionary and calculating the TF-IDF weights for the documents\n",
    "model_tfidf = TfidfModel(descCorpus, id2word=descDict)\n",
    "desc_tfidf  = model_tfidf[descCorpus]"
   ]
  },
  {
   "cell_type": "code",
   "execution_count": 12,
   "metadata": {},
   "outputs": [],
   "source": [
    "# Converting the sparse TF-IDF vectors to dense vectors\n",
    "descriptionVectors = np.vstack([sparse2full(c,len(descDict)) for c in desc_tfidf])"
   ]
  },
  {
   "cell_type": "markdown",
   "metadata": {},
   "source": [
    "#### Generating unweighted vectors using FastText"
   ]
  },
  {
   "cell_type": "code",
   "execution_count": 13,
   "metadata": {},
   "outputs": [],
   "source": [
    "def unweightedVectors(embeddings, text):\n",
    "    # Initialise an array to store unweighted vectors for each document\n",
    "    vecs = np.zeros((len(text), embeddings.vector_size))\n",
    "    for i, doc in enumerate(text):\n",
    "        # Filter out terms that are not present in the embeddings\n",
    "        valid_keys = [term for term in doc if term in embeddings.key_to_index]\n",
    "        if not valid_keys: # Assign a zero vector if no valid terms are found\n",
    "            docvec = np.zeros(embeddings.vector_size)\n",
    "        else: # Get embeddings for each valid term and stack them vertically\n",
    "            docvec = np.vstack([embeddings[term] for term in valid_keys])\n",
    "            docvec = np.sum(docvec, axis=0) # Sum embeddings row-wise to get unweighted vectors for the documents\n",
    "        # Store the unweighted vector for the current document in the 'vecs' array\n",
    "        vecs[i,:] = docvec\n",
    "    return vecs"
   ]
  },
  {
   "cell_type": "code",
   "execution_count": 14,
   "metadata": {},
   "outputs": [],
   "source": [
    "# Generating unweighted vectors for the descriptions\n",
    "jpFT_unweighted = unweightedVectors(jpFastText_wv, tk_desc)"
   ]
  },
  {
   "cell_type": "markdown",
   "metadata": {},
   "source": [
    "### Saving outputs"
   ]
  },
  {
   "cell_type": "code",
   "execution_count": 15,
   "metadata": {},
   "outputs": [
    {
     "name": "stdout",
     "output_type": "stream",
     "text": [
      "Web Index: 70807997\n",
      "--------------------------------------------\n",
      "Title: Welder/Fabricator\n",
      "Description tokens: carry fabrication dyce manufacture works mild steel frames read drawings mig welding hours mon fri\n",
      "--------------------------------------------\n",
      "Vector representation:\n",
      "\n",
      "carry:1 drawings:1 dyce:1 fabrication:1 frames:1 fri:1 hours:1 manufacture:1 mig:1 mild:1 mon:1 read:1 steel:1 welding:1 works:1 "
     ]
    }
   ],
   "source": [
    "#Verifying if the vectors are correctly generated for each job posting/tokenised description\n",
    "validator(count_features, vocabulary, 4, webindices,titles,tokenized_descriptions)"
   ]
  },
  {
   "cell_type": "code",
   "execution_count": 16,
   "metadata": {},
   "outputs": [],
   "source": [
    "# Generating count vectors\n",
    "count_vectors_and_webindices = generate_count_vectors_and_webindices(webindices, vocabulary)\n",
    "\n",
    "# Saving the results to a file\n",
    "with open(\"count_vectors.txt\", \"w\", encoding=\"utf-8\") as file:\n",
    "    for line in count_vectors_and_webindices:\n",
    "        file.write(line + \"\\n\")"
   ]
  },
  {
   "cell_type": "markdown",
   "metadata": {},
   "source": [
    "Upon manual verification (comparing the indices in the vector representation and the vocabulary file), the counts do appear to be correct. "
   ]
  },
  {
   "cell_type": "markdown",
   "metadata": {},
   "source": [
    "## Task 3. Job Advertisement Classification"
   ]
  },
  {
   "cell_type": "markdown",
   "metadata": {},
   "source": [
    "In this task, as alluded to in the introduction, we'll be classifying the job advertisements using the feature vectors we've created in the previous task. Task 3.1 involves the comparison of the vectors created specifically for the descriptions. The other two scenarios (titles only and title + descriptions) will be compared in Task 3.2. "
   ]
  },
  {
   "cell_type": "markdown",
   "metadata": {},
   "source": [
    "### Task 3.1: Language Model Comparisons\n",
    "\n",
    "A comparison of algorithms such as Logistic Regression and LightGBM was performed externally. Logistic Regression was picked for these tasks as it significantly outperforms LightGBM."
   ]
  },
  {
   "cell_type": "code",
   "execution_count": 17,
   "metadata": {},
   "outputs": [
    {
     "name": "stdout",
     "output_type": "stream",
     "text": [
      "Accuracy: 0.8974358974358975\n",
      "Classification Report:\n",
      "               precision    recall  f1-score   support\n",
      "\n",
      "           0       0.90      0.88      0.89        43\n",
      "           1       0.95      0.90      0.92        39\n",
      "           2       0.86      0.97      0.91        37\n",
      "           3       0.89      0.84      0.86        37\n",
      "\n",
      "    accuracy                           0.90       156\n",
      "   macro avg       0.90      0.90      0.90       156\n",
      "weighted avg       0.90      0.90      0.90       156\n",
      "\n"
     ]
    }
   ],
   "source": [
    "X_train, X_test, y_train, y_test = train_test_split(\n",
    "    descriptionVectors,  # Training the model using the features generated\n",
    "    target_indices,  # Target labels (class indices)\n",
    "    test_size=0.2,  # Test size is assigned to 20% of the data\n",
    "    random_state=0  \n",
    ")\n",
    "\n",
    "logistic_reg = LogisticRegression(random_state=0, max_iter=1000)  # Initialising the Logistic Regression Model\n",
    "logistic_reg.fit(X_train, y_train)\n",
    "\n",
    "y_pred = logistic_reg.predict(X_test)\n",
    "\n",
    "# Generating metrics for the trained model based on the tests and predictions\n",
    "accuracy = accuracy_score(y_test, y_pred)\n",
    "confusion_mat = confusion_matrix(y_test, y_pred)\n",
    "classification_rep = classification_report(y_test, y_pred)\n",
    "\n",
    "print(\"Accuracy:\", accuracy)\n",
    "print(\"Classification Report:\\n\", classification_rep)"
   ]
  },
  {
   "cell_type": "code",
   "execution_count": 18,
   "metadata": {},
   "outputs": [
    {
     "data": {
      "text/plain": [
       "Text(0.5, 23.52222222222222, 'Predicted')"
      ]
     },
     "execution_count": 18,
     "metadata": {},
     "output_type": "execute_result"
    },
    {
     "data": {
      "image/png": "[encoded data removed]",
      "text/plain": [
       "<Figure size 640x480 with 2 Axes>"
      ]
     },
     "metadata": {},
     "output_type": "display_data"
    }
   ],
   "source": [
    "# Generating HeatMap/Visualisation for analysis\n",
    "categories = ['Accounting/Finance','Engineering','Healthcare/Nursing', 'Sales'] # this gives sorted set of unique label names\n",
    "\n",
    "sns.heatmap(confusion_mat, annot=True, fmt='d',\n",
    "            xticklabels=categories, yticklabels=categories) # creates a heatmap from the confusion matrix\n",
    "plt.ylabel('Actual')\n",
    "plt.xlabel('Predicted')"
   ]
  },
  {
   "cell_type": "code",
   "execution_count": 19,
   "metadata": {},
   "outputs": [
    {
     "name": "stdout",
     "output_type": "stream",
     "text": [
      "Accuracy: 0.7948717948717948\n",
      "Classification Report:\n",
      "               precision    recall  f1-score   support\n",
      "\n",
      "           0       0.73      0.74      0.74        43\n",
      "           1       0.86      0.82      0.84        39\n",
      "           2       0.85      0.89      0.87        37\n",
      "           3       0.75      0.73      0.74        37\n",
      "\n",
      "    accuracy                           0.79       156\n",
      "   macro avg       0.80      0.80      0.80       156\n",
      "weighted avg       0.80      0.79      0.79       156\n",
      "\n"
     ]
    },
    {
     "name": "stderr",
     "output_type": "stream",
     "text": [
      "/Users/sanandh/anaconda3/lib/python3.11/site-packages/sklearn/linear_model/_logistic.py:458: ConvergenceWarning: lbfgs failed to converge (status=1):\n",
      "STOP: TOTAL NO. of ITERATIONS REACHED LIMIT.\n",
      "\n",
      "Increase the number of iterations (max_iter) or scale the data as shown in:\n",
      "    https://scikit-learn.org/stable/modules/preprocessing.html\n",
      "Please also refer to the documentation for alternative solver options:\n",
      "    https://scikit-learn.org/stable/modules/linear_model.html#logistic-regression\n",
      "  n_iter_i = _check_optimize_result(\n"
     ]
    }
   ],
   "source": [
    "X_train, X_test, y_train, y_test = train_test_split(\n",
    "    jpFT_unweighted,  # Training the model using the unweighted features\n",
    "    target_indices,  \n",
    "    test_size=0.2,  \n",
    "    random_state=0  \n",
    ")\n",
    "\n",
    "logistic_reg = LogisticRegression(random_state=0, max_iter=1000)  \n",
    "logistic_reg.fit(X_train, y_train)\n",
    "\n",
    "y_pred = logistic_reg.predict(X_test)\n",
    "\n",
    "accuracy = accuracy_score(y_test, y_pred)\n",
    "confusion_mat = confusion_matrix(y_test, y_pred)\n",
    "classification_rep = classification_report(y_test, y_pred)\n",
    "\n",
    "print(\"Accuracy:\", accuracy)\n",
    "print(\"Classification Report:\\n\", classification_rep)"
   ]
  },
  {
   "cell_type": "code",
   "execution_count": 20,
   "metadata": {},
   "outputs": [
    {
     "data": {
      "text/plain": [
       "Text(0.5, 23.52222222222222, 'Predicted')"
      ]
     },
     "execution_count": 20,
     "metadata": {},
     "output_type": "execute_result"
    },
    {
     "data": {
      "image/png": "[encoded data removed]",
      "text/plain": [
       "<Figure size 640x480 with 2 Axes>"
      ]
     },
     "metadata": {},
     "output_type": "display_data"
    }
   ],
   "source": [
    "sns.heatmap(confusion_mat, annot=True, fmt='d',\n",
    "            xticklabels=categories, yticklabels=categories) # creates a heatmap from the confusion matrix\n",
    "plt.ylabel('Actual')\n",
    "plt.xlabel('Predicted')"
   ]
  },
  {
   "cell_type": "markdown",
   "metadata": {},
   "source": [
    "The metrics convey that the model trained on weighted vectors perform better. We see a prediction accuracy of ~89% with weighted vectors which is 10% more than the score we see for the model trained on unweighted vectors. Further comparisons will be done on other models for a more detailed comparison."
   ]
  },
  {
   "cell_type": "markdown",
   "metadata": {},
   "source": [
    "### Task 3.2 More information = higher accuracy?"
   ]
  },
  {
   "cell_type": "markdown",
   "metadata": {},
   "source": [
    "#### Task 3.2.1: Considering the title only\n",
    "Here, we'll be performing only a few of the preprocessing steps that were applied previously for the description as recommended in the discussion forum."
   ]
  },
  {
   "cell_type": "code",
   "execution_count": 21,
   "metadata": {},
   "outputs": [],
   "source": [
    "# Convert titles to lowercase\n",
    "titles = [title.lower() for title in titles]\n",
    "\n",
    "#Regex\n",
    "pattern = r\"[a-zA-Z]+(?:[-'][a-zA-Z]+)?\"\n",
    "\n",
    "# Tokenize the descriptions using the custom pattern\n",
    "tokenized_titles = [re.findall(pattern, title) for title in titles]"
   ]
  },
  {
   "cell_type": "code",
   "execution_count": 22,
   "metadata": {},
   "outputs": [],
   "source": [
    "tokenized_titles = [[t for t in titles if len(t) >=2] \\\n",
    "                      for titles in tokenized_titles]"
   ]
  },
  {
   "cell_type": "code",
   "execution_count": 23,
   "metadata": {},
   "outputs": [],
   "source": [
    "filtered_titles = []\n",
    "for tokenized_title in tokenized_titles:\n",
    "    filtered_tokens = [token for token in tokenized_title if token in vocabulary]\n",
    "    filtered_titles.append(filtered_tokens)"
   ]
  },
  {
   "cell_type": "code",
   "execution_count": 24,
   "metadata": {},
   "outputs": [],
   "source": [
    "def export(Filename,filtered_titles):\n",
    "    out_file = open(Filename, 'w') # creates a txt file and open to save the reviews\n",
    "    string = \"\\n\".join([\" \".join(titles) for titles in filtered_titles])\n",
    "    out_file.write(string)\n",
    "    out_file.close() # close the file"
   ]
  },
  {
   "cell_type": "code",
   "execution_count": 25,
   "metadata": {},
   "outputs": [],
   "source": [
    "export('tokenized_titles.txt',filtered_titles)"
   ]
  },
  {
   "cell_type": "markdown",
   "metadata": {},
   "source": [
    "With basic pre-processing done, we can proceed with generating weighted and unweighted vectors for the comparison. Here, the process implemented to generate vectors for the descriptions will be used here as well."
   ]
  },
  {
   "cell_type": "code",
   "execution_count": 26,
   "metadata": {},
   "outputs": [
    {
     "data": {
      "text/plain": [
       "(5443, 23780)"
      ]
     },
     "execution_count": 26,
     "metadata": {},
     "output_type": "execute_result"
    }
   ],
   "source": [
    "# Path to the tokenized corpus file\n",
    "corpus_file = './tokenized_titles.txt'\n",
    "\n",
    "# Initialising FastText model with vector size of 100\n",
    "jpTitleFT = FastText(vector_size=100) \n",
    "\n",
    "# Building the vocabulary from the corpus file\n",
    "jpTitleFT.build_vocab(corpus_file=corpus_file)\n",
    "\n",
    "# Training the FastText model on the corpus data\n",
    "jpTitleFT.train(\n",
    "    corpus_file=corpus_file, epochs=jpTitleFT.epochs,\n",
    "    total_examples=jpTitleFT.corpus_count, total_words=jpTitleFT.corpus_total_words,\n",
    ")"
   ]
  },
  {
   "cell_type": "code",
   "execution_count": 27,
   "metadata": {},
   "outputs": [],
   "source": [
    "jpTitleFT_wv = jpTitleFT.wv # Extracting word vectors from the model"
   ]
  },
  {
   "cell_type": "markdown",
   "metadata": {},
   "source": [
    "#### TF-IDF Vector for Titles "
   ]
  },
  {
   "cell_type": "code",
   "execution_count": 28,
   "metadata": {},
   "outputs": [],
   "source": [
    "titles_dict = Dictionary(filtered_titles) \n",
    "titles_dict.compactify()"
   ]
  },
  {
   "cell_type": "code",
   "execution_count": 29,
   "metadata": {},
   "outputs": [],
   "source": [
    "titles_corpus = [titles_dict.doc2bow(title) for title in filtered_titles] # Converting to Bag of Word\n",
    "tfidfTitles = TfidfModel(titles_corpus, id2word=titles_dict)\n",
    "titles_tfidf  = tfidfTitles[titles_corpus]"
   ]
  },
  {
   "cell_type": "code",
   "execution_count": 30,
   "metadata": {},
   "outputs": [],
   "source": [
    "titles_vecs = np.vstack([sparse2full(t,len(titles_dict)) for t in titles_tfidf])"
   ]
  },
  {
   "cell_type": "code",
   "execution_count": 31,
   "metadata": {},
   "outputs": [
    {
     "name": "stdout",
     "output_type": "stream",
     "text": [
      "Accuracy: 0.7628205128205128\n",
      "Classification Report:\n",
      "               precision    recall  f1-score   support\n",
      "\n",
      "           0       0.76      0.81      0.79        43\n",
      "           1       0.64      0.82      0.72        39\n",
      "           2       0.84      0.70      0.76        37\n",
      "           3       0.90      0.70      0.79        37\n",
      "\n",
      "    accuracy                           0.76       156\n",
      "   macro avg       0.78      0.76      0.76       156\n",
      "weighted avg       0.78      0.76      0.76       156\n",
      "\n"
     ]
    }
   ],
   "source": [
    "X_train, X_test, y_train, y_test = train_test_split(\n",
    "    titles_vecs,  # Weighted title feature vectors\n",
    "    target_indices,  \n",
    "    test_size=0.2,  \n",
    "    random_state=0  \n",
    ")\n",
    "\n",
    "logistic_reg = LogisticRegression(random_state=0, max_iter=1000)  \n",
    "logistic_reg.fit(X_train, y_train)\n",
    "\n",
    "y_pred = logistic_reg.predict(X_test)\n",
    "\n",
    "accuracy = accuracy_score(y_test, y_pred)\n",
    "confusion_mat = confusion_matrix(y_test, y_pred)\n",
    "classification_rep = classification_report(y_test, y_pred)\n",
    "\n",
    "print(\"Accuracy:\", accuracy)\n",
    "print(\"Classification Report:\\n\", classification_rep)"
   ]
  },
  {
   "cell_type": "markdown",
   "metadata": {},
   "source": [
    "#### Unweighted Vector for Titles"
   ]
  },
  {
   "cell_type": "code",
   "execution_count": 32,
   "metadata": {},
   "outputs": [],
   "source": [
    "titles_unweighted = unweightedVectors(jpTitleFT_wv, tokenized_titles)"
   ]
  },
  {
   "cell_type": "code",
   "execution_count": 33,
   "metadata": {},
   "outputs": [
    {
     "name": "stdout",
     "output_type": "stream",
     "text": [
      "Accuracy: 0.25\n",
      "Classification Report:\n",
      "               precision    recall  f1-score   support\n",
      "\n",
      "           0       0.00      0.00      0.00        43\n",
      "           1       0.25      1.00      0.40        39\n",
      "           2       0.00      0.00      0.00        37\n",
      "           3       0.00      0.00      0.00        37\n",
      "\n",
      "    accuracy                           0.25       156\n",
      "   macro avg       0.06      0.25      0.10       156\n",
      "weighted avg       0.06      0.25      0.10       156\n",
      "\n"
     ]
    },
    {
     "name": "stderr",
     "output_type": "stream",
     "text": [
      "/Users/sanandh/anaconda3/lib/python3.11/site-packages/sklearn/metrics/_classification.py:1344: UndefinedMetricWarning: Precision and F-score are ill-defined and being set to 0.0 in labels with no predicted samples. Use `zero_division` parameter to control this behavior.\n",
      "  _warn_prf(average, modifier, msg_start, len(result))\n",
      "/Users/sanandh/anaconda3/lib/python3.11/site-packages/sklearn/metrics/_classification.py:1344: UndefinedMetricWarning: Precision and F-score are ill-defined and being set to 0.0 in labels with no predicted samples. Use `zero_division` parameter to control this behavior.\n",
      "  _warn_prf(average, modifier, msg_start, len(result))\n",
      "/Users/sanandh/anaconda3/lib/python3.11/site-packages/sklearn/metrics/_classification.py:1344: UndefinedMetricWarning: Precision and F-score are ill-defined and being set to 0.0 in labels with no predicted samples. Use `zero_division` parameter to control this behavior.\n",
      "  _warn_prf(average, modifier, msg_start, len(result))\n"
     ]
    }
   ],
   "source": [
    "X_train, X_test, y_train, y_test = train_test_split(\n",
    "    titles_unweighted,  # Unweighted title features\n",
    "    target_indices,  \n",
    "    test_size=0.2, \n",
    "    random_state=0  \n",
    ")\n",
    "\n",
    "logistic_reg = LogisticRegression(random_state=0, max_iter=1000)  \n",
    "logistic_reg.fit(X_train, y_train)\n",
    "\n",
    "y_pred = logistic_reg.predict(X_test)\n",
    "\n",
    "accuracy = accuracy_score(y_test, y_pred)\n",
    "confusion_mat = confusion_matrix(y_test, y_pred)\n",
    "classification_rep = classification_report(y_test, y_pred)\n",
    "\n",
    "print(\"Accuracy:\", accuracy)\n",
    "print(\"Classification Report:\\n\", classification_rep)"
   ]
  },
  {
   "cell_type": "markdown",
   "metadata": {},
   "source": [
    "Similar to what we can observe when we compare the descriptions, the weighted vectors deliver more accuracy. But we do see a stark difference in accuracy when we compare the TF-IDF trained models. When we train the logistic regression algorithm with the weighted vector generated for the descriptions, we get a model that's ~13% better in terms of accuracy compared to the weighted vector generated for the titles. This is a significant difference. Let's see how these stats compare when we consider both the titles along with their respective descriptions."
   ]
  },
  {
   "cell_type": "markdown",
   "metadata": {},
   "source": [
    "#### Considering Titles + Descriptions\n",
    "In this sub-section, the combination of titles and descriptions is used to train our model. There are a few approaches to this but in this scenario, stacking the respective vector representations seems ideal. We'll first verify if the two features are compatible for stacking. If yes, we can proceed with combining the two features and train the model. "
   ]
  },
  {
   "cell_type": "code",
   "execution_count": 34,
   "metadata": {},
   "outputs": [
    {
     "name": "stdout",
     "output_type": "stream",
     "text": [
      "Titles TF-IDF:  (776, 790)\n",
      "Descriptions TF-IDF:  (776, 5168)\n",
      "----------------------\n",
      "Titles Unweighted:  (776, 790)\n",
      "Descriptions Unweighted:  (776, 5168)\n",
      "----------------------\n",
      "Target length:  776\n"
     ]
    }
   ],
   "source": [
    "print('Titles TF-IDF: ', titles_vecs.shape)\n",
    "print('Descriptions TF-IDF: ', descriptionVectors.shape)\n",
    "print('----------------------')\n",
    "print('Titles Unweighted: ', titles_vecs.shape)\n",
    "print('Descriptions Unweighted: ', descriptionVectors.shape)\n",
    "print('----------------------')\n",
    "print('Target length: ', len(target_indices))"
   ]
  },
  {
   "cell_type": "markdown",
   "metadata": {},
   "source": [
    "The lengths of each feature and the target are the same, since they are in the same scale, we can proceed with stacking the features."
   ]
  },
  {
   "cell_type": "code",
   "execution_count": 35,
   "metadata": {
    "scrolled": true
   },
   "outputs": [
    {
     "data": {
      "text/plain": [
       "0.9294871794871795"
      ]
     },
     "execution_count": 35,
     "metadata": {},
     "output_type": "execute_result"
    }
   ],
   "source": [
    "X_combined = np.hstack((titles_vecs, descriptionVectors))\n",
    "# Corresponding labels (y)\n",
    "y = target_indices\n",
    "X_train, X_test, y_train, y_test = train_test_split(X_combined, y, test_size=0.2, random_state=42)\n",
    "model = LogisticRegression()\n",
    "model.fit(X_train, y_train)\n",
    "model.score(X_test, y_test)"
   ]
  },
  {
   "cell_type": "code",
   "execution_count": 36,
   "metadata": {},
   "outputs": [
    {
     "name": "stderr",
     "output_type": "stream",
     "text": [
      "/Users/sanandh/anaconda3/lib/python3.11/site-packages/sklearn/linear_model/_logistic.py:458: ConvergenceWarning: lbfgs failed to converge (status=1):\n",
      "STOP: TOTAL NO. of ITERATIONS REACHED LIMIT.\n",
      "\n",
      "Increase the number of iterations (max_iter) or scale the data as shown in:\n",
      "    https://scikit-learn.org/stable/modules/preprocessing.html\n",
      "Please also refer to the documentation for alternative solver options:\n",
      "    https://scikit-learn.org/stable/modules/linear_model.html#logistic-regression\n",
      "  n_iter_i = _check_optimize_result(\n"
     ]
    },
    {
     "data": {
      "text/plain": [
       "0.7435897435897436"
      ]
     },
     "execution_count": 36,
     "metadata": {},
     "output_type": "execute_result"
    }
   ],
   "source": [
    "X_unweighted = np.hstack((titles_unweighted, jpFT_unweighted))\n",
    "# Corresponding labels (y)\n",
    "y = target_indices\n",
    "X_train, X_test, y_train, y_test = train_test_split(X_unweighted, y, test_size=0.2, random_state=42)\n",
    "model = LogisticRegression()\n",
    "model.fit(X_train, y_train)\n",
    "model.score(X_test, y_test)"
   ]
  },
  {
   "cell_type": "markdown",
   "metadata": {},
   "source": [
    "You may have noticed that the second scenario listed in the question isn't present in this sub-section, that's because it's already been done in Task 3.1 and to avoid redundancy, it hasn't been repeated here. The three scenarios are however compared below using 5-fold cross validation for a more comprehensive comparison."
   ]
  },
  {
   "cell_type": "markdown",
   "metadata": {},
   "source": [
    "### Comparing the models using 5-Fold Cross Validation"
   ]
  },
  {
   "cell_type": "code",
   "execution_count": 37,
   "metadata": {},
   "outputs": [
    {
     "name": "stdout",
     "output_type": "stream",
     "text": [
      "KFold(n_splits=5, random_state=42, shuffle=True)\n"
     ]
    }
   ],
   "source": [
    "num_folds = 5\n",
    "seed = 42\n",
    "kf = KFold(n_splits= num_folds, random_state=seed, shuffle = True) # initialise a 5 fold validation\n",
    "print(kf)"
   ]
  },
  {
   "cell_type": "code",
   "execution_count": 38,
   "metadata": {},
   "outputs": [],
   "source": [
    "def modelEvaluation(X_train,X_test,y_train, y_test,seed):\n",
    "    model = LogisticRegression(random_state=seed,max_iter = 5000)\n",
    "    model.fit(X_train, y_train)\n",
    "    return model.score(X_test, y_test)"
   ]
  },
  {
   "cell_type": "code",
   "execution_count": 39,
   "metadata": {},
   "outputs": [],
   "source": [
    "num_models = 6\n",
    "validationTable = pd.DataFrame(index=range(num_folds))\n",
    "\n",
    "fold = 0\n",
    "for train_index, test_index in kf.split(list(range(0, len(target_indices)))):\n",
    "    y_train = [str(target_indices[i]) for i in train_index]\n",
    "    y_test = [str(target_indices[i]) for i in test_index]\n",
    "\n",
    "    #Descriptions\n",
    "    X_train_tfidf, X_test_tfidf = descriptionVectors[train_index], descriptionVectors[test_index]\n",
    "    validationTable.loc[fold, 'TF-IDF for Descriptions'] = modelEvaluation(descriptionVectors[train_index], descriptionVectors[test_index], y_train, y_test, seed)\n",
    "    \n",
    "    X_train_unweighted, X_test_unweighted = jpFT_unweighted[train_index], jpFT_unweighted[test_index]\n",
    "    validationTable.loc[fold, 'Unweighted Vector for Descriptions'] = modelEvaluation(X_train_unweighted, X_test_unweighted, y_train, y_test, seed)\n",
    "    \n",
    "    #Titles\n",
    "    X_train_titleIDF, X_test_titleIDF = titles_vecs[train_index], titles_vecs[test_index]\n",
    "    validationTable.loc[fold, 'TF-IDF for Titles'] = modelEvaluation(titles_vecs[train_index], titles_vecs[test_index], y_train, y_test, seed)\n",
    "    \n",
    "    X_train_titleUW, X_test_UW = titles_unweighted[train_index], titles_unweighted[test_index]\n",
    "    validationTable.loc[fold, 'Unweighted Vector for Titles'] = modelEvaluation(X_train_titleUW, X_test_UW, y_train, y_test, seed)\n",
    "    \n",
    "    #Combined\n",
    "    X_train_CIDF, X_test_CIDF = X_combined[train_index], X_combined[test_index]\n",
    "    validationTable.loc[fold, 'TF-IDF for Combined Text Tokens'] = modelEvaluation(X_combined[train_index], X_combined[test_index], y_train, y_test, seed)\n",
    "    \n",
    "    X_train_CUW, X_test_CUW = X_unweighted[train_index], X_unweighted[test_index]\n",
    "    validationTable.loc[fold, 'Unweighted Vector for Combined Text Tokens'] = modelEvaluation(X_train_CUW, X_test_CUW, y_train, y_test, seed)\n",
    "\n",
    "    fold += 1"
   ]
  },
  {
   "cell_type": "code",
   "execution_count": 40,
   "metadata": {
    "scrolled": true
   },
   "outputs": [
    {
     "data": {
      "text/html": [
       "<div>\n",
       "<style scoped>\n",
       "    .dataframe tbody tr th:only-of-type {\n",
       "        vertical-align: middle;\n",
       "    }\n",
       "\n",
       "    .dataframe tbody tr th {\n",
       "        vertical-align: top;\n",
       "    }\n",
       "\n",
       "    .dataframe thead th {\n",
       "        text-align: right;\n",
       "    }\n",
       "</style>\n",
       "<table border=\"1\" class=\"dataframe\">\n",
       "  <thead>\n",
       "    <tr style=\"text-align: right;\">\n",
       "      <th></th>\n",
       "      <th>TF-IDF for Descriptions</th>\n",
       "      <th>Unweighted Vector for Descriptions</th>\n",
       "      <th>TF-IDF for Titles</th>\n",
       "      <th>Unweighted Vector for Titles</th>\n",
       "      <th>TF-IDF for Combined Text Tokens</th>\n",
       "      <th>Unweighted Vector for Combined Text Tokens</th>\n",
       "    </tr>\n",
       "  </thead>\n",
       "  <tbody>\n",
       "    <tr>\n",
       "      <th>0</th>\n",
       "      <td>0.942308</td>\n",
       "      <td>0.852564</td>\n",
       "      <td>0.794872</td>\n",
       "      <td>0.282051</td>\n",
       "      <td>0.929487</td>\n",
       "      <td>0.852564</td>\n",
       "    </tr>\n",
       "    <tr>\n",
       "      <th>1</th>\n",
       "      <td>0.916129</td>\n",
       "      <td>0.800000</td>\n",
       "      <td>0.877419</td>\n",
       "      <td>0.335484</td>\n",
       "      <td>0.954839</td>\n",
       "      <td>0.800000</td>\n",
       "    </tr>\n",
       "    <tr>\n",
       "      <th>2</th>\n",
       "      <td>0.883871</td>\n",
       "      <td>0.832258</td>\n",
       "      <td>0.780645</td>\n",
       "      <td>0.290323</td>\n",
       "      <td>0.890323</td>\n",
       "      <td>0.832258</td>\n",
       "    </tr>\n",
       "    <tr>\n",
       "      <th>3</th>\n",
       "      <td>0.845161</td>\n",
       "      <td>0.787097</td>\n",
       "      <td>0.787097</td>\n",
       "      <td>0.264516</td>\n",
       "      <td>0.870968</td>\n",
       "      <td>0.787097</td>\n",
       "    </tr>\n",
       "    <tr>\n",
       "      <th>4</th>\n",
       "      <td>0.858065</td>\n",
       "      <td>0.787097</td>\n",
       "      <td>0.825806</td>\n",
       "      <td>0.316129</td>\n",
       "      <td>0.858065</td>\n",
       "      <td>0.787097</td>\n",
       "    </tr>\n",
       "  </tbody>\n",
       "</table>\n",
       "</div>"
      ],
      "text/plain": [
       "   TF-IDF for Descriptions  Unweighted Vector for Descriptions  \\\n",
       "0                 0.942308                            0.852564   \n",
       "1                 0.916129                            0.800000   \n",
       "2                 0.883871                            0.832258   \n",
       "3                 0.845161                            0.787097   \n",
       "4                 0.858065                            0.787097   \n",
       "\n",
       "   TF-IDF for Titles  Unweighted Vector for Titles  \\\n",
       "0           0.794872                      0.282051   \n",
       "1           0.877419                      0.335484   \n",
       "2           0.780645                      0.290323   \n",
       "3           0.787097                      0.264516   \n",
       "4           0.825806                      0.316129   \n",
       "\n",
       "   TF-IDF for Combined Text Tokens  Unweighted Vector for Combined Text Tokens  \n",
       "0                         0.929487                                    0.852564  \n",
       "1                         0.954839                                    0.800000  \n",
       "2                         0.890323                                    0.832258  \n",
       "3                         0.870968                                    0.787097  \n",
       "4                         0.858065                                    0.787097  "
      ]
     },
     "execution_count": 40,
     "metadata": {},
     "output_type": "execute_result"
    }
   ],
   "source": [
    "validationTable"
   ]
  },
  {
   "cell_type": "code",
   "execution_count": 41,
   "metadata": {},
   "outputs": [
    {
     "name": "stdout",
     "output_type": "stream",
     "text": [
      "Best Case Results for each model: \n",
      "TF-IDF for Descriptions                       0.942308\n",
      "Unweighted Vector for Descriptions            0.852564\n",
      "TF-IDF for Titles                             0.877419\n",
      "Unweighted Vector for Titles                  0.335484\n",
      "TF-IDF for Combined Text Tokens               0.954839\n",
      "Unweighted Vector for Combined Text Tokens    0.852564\n",
      "dtype: float64\n"
     ]
    }
   ],
   "source": [
    "print('Best Case Results for each model: ')\n",
    "max_values = validationTable.max(axis=0)\n",
    "print(max_values)"
   ]
  },
  {
   "cell_type": "markdown",
   "metadata": {},
   "source": [
    "Judging by the results we've obtained, TF-IDF features generally outperform unweighted vectors across all text data types. Combining text tokens from both titles and descriptions (TF-IDF) yields the highest accuracy.\n",
    "Unweighted vectors for titles and combined text tokens perform relatively poorly, indicating that word embeddings may not capture semantic information effectively.\n",
    "TF-IDF for descriptions and combined text tokens have higher average accuracies compared to other approaches.\n",
    "These results suggest that using TF-IDF features for both descriptions and combined text tokens is an effective choice for this classification task."
   ]
  },
  {
   "cell_type": "markdown",
   "metadata": {},
   "source": [
    "## Summary\n",
    "In these tasks, the FastText word embedding model was used to generate TF-IDF vectors for all the components of the corpus (i.e., titles and descriptions). A count_vector.txt file was also generated for the descriptions. Using the feature representations generated, an elaborate comparison was performed on Logistic Regression models trained on various scenarios (as listed in Task 3's specifications) using 5-Fold Cross Validation. The conclusion is that we can expect more accuracy when we use weighted features to train our models. Overall, this has been a challenging but very interesting assignment."
   ]
  },
  {
   "cell_type": "markdown",
   "metadata": {},
   "source": [
    "## References\n",
    "\n",
    "Deep, A 2020, ‘Word2Vec, GLOVE, FastText and Baseline Word Embeddings step by step’, Analytics Vidhya.\n",
    "\n",
    "Ganesan, K 2021, ‘FastText vs. Word2vec: A Quick Comparison’, Kavita Ganesan, PhD.\n",
    "\n",
    "‘Introduction to word embeddings – Word2Vec, Glove, FastText and ELMo – Data Science, Machine Learning, Deep Learning’.\n",
    "\n",
    "nicogen 2017, ‘Answer to “How to combine tfidf features with selfmade features”’, Stack Overflow.\n",
    "\n",
    "Reveille 2020, ‘Answer to “Why concatenate features in machine learning?”’, Stack Overflow.\n",
    "\n",
    "Acknowledgement: Some of the codes have been repurposed from the lab and activity notebooks provided on Canvas."
   ]
  }
 ],
 "metadata": {
  "kernelspec": {
   "display_name": "Python 3 (ipykernel)",
   "language": "python",
   "name": "python3"
  },
  "language_info": {
   "codemirror_mode": {
    "name": "ipython",
    "version": 3
   },
   "file_extension": ".py",
   "mimetype": "text/x-python",
   "name": "python",
   "nbconvert_exporter": "python",
   "pygments_lexer": "ipython3",
   "version": "3.11.3"
  }
 },
 "nbformat": 4,
 "nbformat_minor": 1
}
